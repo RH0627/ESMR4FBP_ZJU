{
 "cells": [
  {
   "cell_type": "code",
   "execution_count": null,
   "id": "9d1315bc",
   "metadata": {},
   "outputs": [],
   "source": [
    "#if you do not have required environment, please use pip install, thank you!\n",
    "#pip install fair-esm\n",
    "#pip install tensorflow\n",
    "#pip install pytorch\n",
    "#pip install numpy \n",
    "#pip install pandas"
   ]
  },
  {
   "cell_type": "code",
   "execution_count": null,
   "id": "3b92b05f",
   "metadata": {},
   "outputs": [
    {
     "name": "stderr",
     "output_type": "stream",
     "text": [
      "D:\\py\\anaconda3\\envs\\tf2.6\\lib\\site-packages\\numpy\\_distributor_init.py:30: UserWarning: loaded more than 1 DLL from .libs:\n",
      "D:\\py\\anaconda3\\envs\\tf2.6\\lib\\site-packages\\numpy\\.libs\\libopenblas.GK7GX5KEQ4F6UYO3P26ULGBQYHGQO7J4.gfortran-win_amd64.dll\n",
      "D:\\py\\anaconda3\\envs\\tf2.6\\lib\\site-packages\\numpy\\.libs\\libopenblas.WCDJNK7YVMPZQ2ME2ZZHJJRJ3JIKNDB7.gfortran-win_amd64.dll\n",
      "  warnings.warn(\"loaded more than 1 DLL from .libs:\"\n"
     ]
    },
    {
     "name": "stdout",
     "output_type": "stream",
     "text": [
      "Please choose 'antioxidant' or 'bitter': bitter\n"
     ]
    },
    {
     "name": "stderr",
     "output_type": "stream",
     "text": [
      "Exception in Tkinter callback\n",
      "Traceback (most recent call last):\n",
      "  File \"D:\\py\\anaconda3\\envs\\tf2.6\\lib\\tkinter\\__init__.py\", line 1892, in __call__\n",
      "    return self.func(*args)\n",
      "  File \"C:\\Users\\RH\\AppData\\Local\\Temp\\ipykernel_7504\\443964969.py\", line 39, in choose_file\n",
      "    predictions = predict_with_model(model, data)\n",
      "  File \"C:\\Users\\RH\\AppData\\Local\\Temp\\ipykernel_7504\\443964969.py\", line 13, in predict_with_model\n",
      "    return model.predict(data)\n",
      "  File \"D:\\py\\anaconda3\\envs\\tf2.6\\lib\\site-packages\\keras\\engine\\training.py\", line 1751, in predict\n",
      "    tmp_batch_outputs = self.predict_function(iterator)\n",
      "  File \"D:\\py\\anaconda3\\envs\\tf2.6\\lib\\site-packages\\tensorflow\\python\\eager\\def_function.py\", line 885, in __call__\n",
      "    result = self._call(*args, **kwds)\n",
      "  File \"D:\\py\\anaconda3\\envs\\tf2.6\\lib\\site-packages\\tensorflow\\python\\eager\\def_function.py\", line 933, in _call\n",
      "    self._initialize(args, kwds, add_initializers_to=initializers)\n",
      "  File \"D:\\py\\anaconda3\\envs\\tf2.6\\lib\\site-packages\\tensorflow\\python\\eager\\def_function.py\", line 759, in _initialize\n",
      "    self._stateful_fn._get_concrete_function_internal_garbage_collected(  # pylint: disable=protected-access\n",
      "  File \"D:\\py\\anaconda3\\envs\\tf2.6\\lib\\site-packages\\tensorflow\\python\\eager\\function.py\", line 3066, in _get_concrete_function_internal_garbage_collected\n",
      "    graph_function, _ = self._maybe_define_function(args, kwargs)\n",
      "  File \"D:\\py\\anaconda3\\envs\\tf2.6\\lib\\site-packages\\tensorflow\\python\\eager\\function.py\", line 3463, in _maybe_define_function\n",
      "    graph_function = self._create_graph_function(args, kwargs)\n",
      "  File \"D:\\py\\anaconda3\\envs\\tf2.6\\lib\\site-packages\\tensorflow\\python\\eager\\function.py\", line 3298, in _create_graph_function\n",
      "    func_graph_module.func_graph_from_py_func(\n",
      "  File \"D:\\py\\anaconda3\\envs\\tf2.6\\lib\\site-packages\\tensorflow\\python\\framework\\func_graph.py\", line 1007, in func_graph_from_py_func\n",
      "    func_outputs = python_func(*func_args, **func_kwargs)\n",
      "  File \"D:\\py\\anaconda3\\envs\\tf2.6\\lib\\site-packages\\tensorflow\\python\\eager\\def_function.py\", line 668, in wrapped_fn\n",
      "    out = weak_wrapped_fn().__wrapped__(*args, **kwds)\n",
      "  File \"D:\\py\\anaconda3\\envs\\tf2.6\\lib\\site-packages\\tensorflow\\python\\framework\\func_graph.py\", line 994, in wrapper\n",
      "    raise e.ag_error_metadata.to_exception(e)\n",
      "ValueError: in user code:\n",
      "\n",
      "    D:\\py\\anaconda3\\envs\\tf2.6\\lib\\site-packages\\keras\\engine\\training.py:1586 predict_function  *\n",
      "        return step_function(self, iterator)\n",
      "    D:\\py\\anaconda3\\envs\\tf2.6\\lib\\site-packages\\keras\\engine\\training.py:1576 step_function  **\n",
      "        outputs = model.distribute_strategy.run(run_step, args=(data,))\n",
      "    D:\\py\\anaconda3\\envs\\tf2.6\\lib\\site-packages\\tensorflow\\python\\distribute\\distribute_lib.py:1286 run\n",
      "        return self._extended.call_for_each_replica(fn, args=args, kwargs=kwargs)\n",
      "    D:\\py\\anaconda3\\envs\\tf2.6\\lib\\site-packages\\tensorflow\\python\\distribute\\distribute_lib.py:2849 call_for_each_replica\n",
      "        return self._call_for_each_replica(fn, args, kwargs)\n",
      "    D:\\py\\anaconda3\\envs\\tf2.6\\lib\\site-packages\\tensorflow\\python\\distribute\\distribute_lib.py:3632 _call_for_each_replica\n",
      "        return fn(*args, **kwargs)\n",
      "    D:\\py\\anaconda3\\envs\\tf2.6\\lib\\site-packages\\keras\\engine\\training.py:1569 run_step  **\n",
      "        outputs = model.predict_step(data)\n",
      "    D:\\py\\anaconda3\\envs\\tf2.6\\lib\\site-packages\\keras\\engine\\training.py:1537 predict_step\n",
      "        return self(x, training=False)\n",
      "    D:\\py\\anaconda3\\envs\\tf2.6\\lib\\site-packages\\keras\\engine\\base_layer.py:1020 __call__\n",
      "        input_spec.assert_input_compatibility(self.input_spec, inputs, self.name)\n",
      "    D:\\py\\anaconda3\\envs\\tf2.6\\lib\\site-packages\\keras\\engine\\input_spec.py:214 assert_input_compatibility\n",
      "        raise ValueError('Input ' + str(input_index) + ' of layer ' +\n",
      "\n",
      "    ValueError: Input 0 of layer sequential is incompatible with the layer: expected ndim=3, found ndim=2. Full shape received: (None, 321)\n",
      "\n"
     ]
    }
   ],
   "source": [
    "import pandas as pd\n",
    "import tkinter as tk\n",
    "from tkinter import filedialog\n",
    "import tensorflow as tf\n",
    "\n",
    "def load_model(model_name):\n",
    "    # This function loads the Keras model from the specified h5 file.\n",
    "    model_path = f\"{model_name}.h5\"\n",
    "    return tf.keras.models.load_model(model_path)\n",
    "\n",
    "def predict_with_model(model, data):\n",
    "    # This function predicts the output using the given model and data.\n",
    "    return model.predict(data)\n",
    "\n",
    "def choose_file():\n",
    "    # Create a Tkinter window\n",
    "    root = tk.Tk()\n",
    "    root.withdraw()  # Hide the main window\n",
    "    \n",
    "    # Let the user choose the CSV file\n",
    "    file_path = filedialog.askopenfilename(title=\"选择CSV文件\", filetypes=[(\"CSV Files\", \"*.csv\")])\n",
    "    \n",
    "    # Read the CSV file\n",
    "    data = pd.read_csv(file_path)\n",
    "    \n",
    "    # Let the user choose between 'antioxidant' and 'bitter'\n",
    "    model_choice = input(\"Please choose 'antioxidant' or 'bitter': \").lower()\n",
    "    \n",
    "    # Load the chosen model\n",
    "    if model_choice == 'antioxidant':\n",
    "        model = load_model(\"antitri\")\n",
    "    elif model_choice == 'bitter':\n",
    "        model = load_model(\"bitter\")\n",
    "    else:\n",
    "        print(\"Invalid choice. Please choose 'antioxidant' or 'bitter'.\")\n",
    "        return\n",
    "    \n",
    "    # Predict for each row in the CSV file\n",
    "    predictions = predict_with_model(model, data)\n",
    "    \n",
    "    # Output the predictions\n",
    "    for i, prediction in enumerate(predictions):\n",
    "        print(f\"Prediction for row {i+1}: {prediction}\")\n",
    "\n",
    "# Create a Tkinter window\n",
    "root = tk.Tk()\n",
    "\n",
    "# Create a button for choosing the file\n",
    "button = tk.Button(root, text=\"选择文件\", command=choose_file)\n",
    "button.pack()\n",
    "\n",
    "# Start the Tkinter event loop\n",
    "root.mainloop()"
   ]
  }
 ],
 "metadata": {
  "kernelspec": {
   "display_name": "Python 3 (ipykernel)",
   "language": "python",
   "name": "python3"
  },
  "language_info": {
   "codemirror_mode": {
    "name": "ipython",
    "version": 3
   },
   "file_extension": ".py",
   "mimetype": "text/x-python",
   "name": "python",
   "nbconvert_exporter": "python",
   "pygments_lexer": "ipython3",
   "version": "3.9.13"
  }
 },
 "nbformat": 4,
 "nbformat_minor": 5
}
