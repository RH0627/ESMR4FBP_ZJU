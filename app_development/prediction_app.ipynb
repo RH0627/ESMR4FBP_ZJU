{
 "cells": [
  {
   "cell_type": "code",
   "execution_count": 1,
   "id": "9d1315bc",
   "metadata": {},
   "outputs": [],
   "source": [
    "#if you do not have required environment, please use pip install, thank you!\n",
    "#pip install fair-esm\n",
    "#pip install tensorflow\n",
    "#pip install pytorch\n",
    "#pip install numpy \n",
    "#pip install pandas"
   ]
  },
  {
   "cell_type": "code",
   "execution_count": null,
   "id": "3b92b05f",
   "metadata": {},
   "outputs": [
    {
     "name": "stderr",
     "output_type": "stream",
     "text": [
      "D:\\py\\anaconda3\\envs\\tf2.6\\lib\\site-packages\\numpy\\_distributor_init.py:30: UserWarning: loaded more than 1 DLL from .libs:\n",
      "D:\\py\\anaconda3\\envs\\tf2.6\\lib\\site-packages\\numpy\\.libs\\libopenblas.GK7GX5KEQ4F6UYO3P26ULGBQYHGQO7J4.gfortran-win_amd64.dll\n",
      "D:\\py\\anaconda3\\envs\\tf2.6\\lib\\site-packages\\numpy\\.libs\\libopenblas.WCDJNK7YVMPZQ2ME2ZZHJJRJ3JIKNDB7.gfortran-win_amd64.dll\n",
      "  warnings.warn(\"loaded more than 1 DLL from .libs:\"\n"
     ]
    },
    {
     "name": "stdout",
     "output_type": "stream",
     "text": [
      "Please choose 'antioxidant' or 'bitter': antioxidant\n",
      "Prediction for row 1: [0.6392573]\n",
      "Prediction for row 2: [1.4960418]\n",
      "Prediction for row 3: [nan]\n",
      "Prediction for row 4: [nan]\n",
      "Prediction for row 5: [nan]\n",
      "Prediction for row 6: [nan]\n",
      "Prediction for row 7: [nan]\n"
     ]
    }
   ],
   "source": [
    "import pandas as pd\n",
    "import tkinter as tk\n",
    "from tkinter import filedialog\n",
    "import tensorflow as tf\n",
    "import numpy as np\n",
    "\n",
    "def load_model(model_name):\n",
    "    # This function loads the Keras model from the specified h5 file.\n",
    "    model_path = f\"{model_name}.h5\"\n",
    "    return tf.keras.models.load_model(model_path)\n",
    "\n",
    "def predict_with_model(model, data):\n",
    "    # This function predicts the output using the given model and data.\n",
    "    return model.predict(data)\n",
    "\n",
    "def choose_file():\n",
    "    # Create a Tkinter window\n",
    "    root = tk.Tk()\n",
    "    root.withdraw()  # Hide the main window\n",
    "    \n",
    "    # Let the user choose the CSV file\n",
    "    file_path = filedialog.askopenfilename(title=\"选择CSV文件\", filetypes=[(\"CSV Files\", \"*.csv\")])\n",
    "    \n",
    "    # Read the CSV file\n",
    "    data = pd.read_csv(file_path)\n",
    "    array_pred = data.values\n",
    "    data_pred = array_pred.reshape(array_pred.shape[0], 1, array_pred.shape[1])\n",
    "    # Let the user choose between 'antioxidant' and 'bitter'\n",
    "    model_choice = input(\"Please choose 'antioxidant' or 'bitter': \").lower()\n",
    "    \n",
    "    # Load the chosen model\n",
    "    if model_choice == 'antioxidant':\n",
    "        model = load_model(\"antitri\")\n",
    "    elif model_choice == 'bitter':\n",
    "        model = load_model(\"bitter\")\n",
    "    else:\n",
    "        print(\"Invalid choice. Please choose 'antioxidant' or 'bitter'.\")\n",
    "        return\n",
    "    \n",
    "    # Predict for each row in the CSV file\n",
    "    predictions = predict_with_model(model, data_pred)\n",
    "    \n",
    "    # Output the predictions\n",
    "    for i, prediction in enumerate(predictions):\n",
    "        print(f\"Prediction for row {i+1}: {prediction}\")\n",
    "\n",
    "# Create a Tkinter window\n",
    "root = tk.Tk()\n",
    "\n",
    "# Create a button for choosing the file\n",
    "button = tk.Button(root, text=\"选择文件\", command=choose_file)\n",
    "button.pack()\n",
    "\n",
    "# Start the Tkinter event loop\n",
    "root.mainloop()"
   ]
  },
  {
   "cell_type": "code",
   "execution_count": null,
   "id": "7aabcbba",
   "metadata": {},
   "outputs": [],
   "source": []
  },
  {
   "cell_type": "code",
   "execution_count": null,
   "id": "f674e9b1",
   "metadata": {},
   "outputs": [],
   "source": []
  }
 ],
 "metadata": {
  "kernelspec": {
   "display_name": "Python 3 (ipykernel)",
   "language": "python",
   "name": "python3"
  },
  "language_info": {
   "codemirror_mode": {
    "name": "ipython",
    "version": 3
   },
   "file_extension": ".py",
   "mimetype": "text/x-python",
   "name": "python",
   "nbconvert_exporter": "python",
   "pygments_lexer": "ipython3",
   "version": "3.9.13"
  }
 },
 "nbformat": 4,
 "nbformat_minor": 5
}
