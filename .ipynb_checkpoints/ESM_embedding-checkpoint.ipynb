{
 "cells": [
  {
   "cell_type": "code",
   "execution_count": null,
   "id": "171ee9ed",
   "metadata": {},
   "outputs": [],
   "source": [
    "import os\n",
    "os.chdir('your_file_way')\n",
    "import pandas as pd\n",
    "import numpy as np\n",
    "import esm\n",
    "import torch\n",
    "\n",
    "print(pd.__version__)\n",
    "print(np.__version__)\n",
    "print(esm.__version__)\n",
    "print(torch.__version__)\n",
    "\n",
    "#training dataset loading\n",
    "#打开指定路径的excel文件\n",
    "excel_path = r'your_file_way'\n",
    "dataset = pd.read_excel(excel_path, na_filter=False)\n",
    "sequence_list = dataset['Sequence']\n",
    "\n",
    "print(sequence_list)\n",
    "\n",
    "peptide_sequence_list = []\n",
    "for seq in sequence_list:\n",
    "    format_seq = [seq,seq]\n",
    "    tuple_sequence = tuple(format_seq)\n",
    "    peptide_sequence_list.append(tuple_sequence)\n",
    "print(peptide_sequence_list)\n",
    "\n",
    "import torch\n",
    "import esm\n",
    "import pandas as pd\n",
    "\n",
    "#load ESM-2 model\n",
    "model, alphabet = esm.pretrained.esm2_t6_8M_UR50D()\n",
    "batch_converter = alphabet.get_batch_converter()\n",
    "model.eval()\n",
    "    \n",
    "#load data\n",
    "data = peptide_sequence_list\n",
    "batch_labels, batch_strs, batch_tokens = batch_converter(data)\n",
    "batch_lens = (batch_tokens != alphabet.padding_idx).sum(1)\n",
    "    \n",
    "# Extract per-residue representations (on CPU)\n",
    "with torch.no_grad():\n",
    "    results = model(batch_tokens, repr_layers=[6], return_contacts=True)\n",
    "token_representations = results[\"representations\"][6]\n",
    "    \n",
    "# Generate per-sequence representations via averaging\n",
    "sequence_representations = []\n",
    "for i, token_len in enumerate(batch_lens):\n",
    "    each_seq_rep = token_representations[i, 1:token_len - 1].mean(0).tolist()  \n",
    "    sequence_representations.append(each_seq_rep)\n",
    "\n",
    "embedding_results = pd.DataFrame(sequence_representations)\n",
    "print(embedding_results)\n",
    "embedding_results.to_csv('your_file_name.csv')"
   ]
  }
 ],
 "metadata": {
  "kernelspec": {
   "display_name": "Python 3 (ipykernel)",
   "language": "python",
   "name": "python3"
  },
  "language_info": {
   "codemirror_mode": {
    "name": "ipython",
    "version": 3
   },
   "file_extension": ".py",
   "mimetype": "text/x-python",
   "name": "python",
   "nbconvert_exporter": "python",
   "pygments_lexer": "ipython3",
   "version": "3.9.13"
  }
 },
 "nbformat": 4,
 "nbformat_minor": 5
}
